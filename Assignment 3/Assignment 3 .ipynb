{
 "cells": [
  {
   "cell_type": "code",
   "execution_count": 14,
   "id": "c50009f9",
   "metadata": {},
   "outputs": [
    {
     "name": "stdout",
     "output_type": "stream",
     "text": [
      "Twinkle,twinkle,little star,\n",
      "\tHow I wonder what you are!\n",
      "\t\tUp above the world so high,\n",
      "\t\tLike a diamond in the sky.\n",
      "Twinkle,twinkle,little star,\n",
      "\tHow I wonder what you are\n"
     ]
    }
   ],
   "source": [
    "#Assignment 3\n",
    "# Q1\n",
    "print (\"Twinkle,twinkle,little star,\\n\\tHow I wonder what you are!\\n\\t\\tUp above the world so high,\\n\\t\\tLike a diamond in the sky.\\nTwinkle,twinkle,little star,\\n\\tHow I wonder what you are\")"
   ]
  },
  {
   "cell_type": "code",
   "execution_count": 25,
   "id": "70214cd6",
   "metadata": {},
   "outputs": [
    {
     "name": "stdout",
     "output_type": "stream",
     "text": [
      "phython version following below;\n",
      "3.8.8 (default, Apr 13 2021, 15:08:03) [MSC v.1916 64 bit (AMD64)]\n"
     ]
    }
   ],
   "source": [
    "# Q2\n",
    "import sys\n",
    "print(\"phython version following below;\")\n",
    "print(sys.version)\n"
   ]
  },
  {
   "cell_type": "code",
   "execution_count": 31,
   "id": "446661a9",
   "metadata": {},
   "outputs": [
    {
     "name": "stdout",
     "output_type": "stream",
     "text": [
      "Current date and time: \n",
      "2021-10-23 12:35:50\n"
     ]
    }
   ],
   "source": [
    "# Q3 date and time\n",
    "import datetime\n",
    "now = datetime.datetime.now()\n",
    "print(\"Current date and time: \")\n",
    "print(now.strftime(\"%Y-%m-%d %H:%M:%S\"))"
   ]
  },
  {
   "cell_type": "code",
   "execution_count": 43,
   "id": "0cd5640a",
   "metadata": {},
   "outputs": [
    {
     "name": "stdout",
     "output_type": "stream",
     "text": [
      "Enter the radius: 4\n",
      "4.0\n",
      "Area of circle is  50.24\n"
     ]
    }
   ],
   "source": [
    "# Q4 accept radius and calculate the  area of circle\n",
    "radi =float(input(\"Enter the radius: \"))\n",
    "print(radi)\n",
    "print(\"Area of circle is \",3.14*(radi*radi))\n",
    " "
   ]
  },
  {
   "cell_type": "code",
   "execution_count": 45,
   "id": "306d2c17",
   "metadata": {},
   "outputs": [
    {
     "name": "stdout",
     "output_type": "stream",
     "text": [
      "siawa nomen\n"
     ]
    }
   ],
   "source": [
    "# Q5 print first naem and last name reverse order\n",
    "fName =\"Awais\"\n",
    "LName =\"Memon\"\n",
    "if fName ==\"Awais\"and LName ==\"Memon\":\n",
    "    print(\"siawa nomen\")\n"
   ]
  },
  {
   "cell_type": "code",
   "execution_count": 5,
   "id": "d5b5a520",
   "metadata": {},
   "outputs": [
    {
     "name": "stdout",
     "output_type": "stream",
     "text": [
      "Enter First Number: 5\n",
      "Enter Second Number: 6\n",
      "Addition is:  11\n"
     ]
    }
   ],
   "source": [
    "# Q6  take two input then add them\n",
    "num1= input(\"Enter First Number: \")\n",
    "num2 = input(\"Enter Second Number: \")\n",
    "total= int(num1)+int(num2)\n",
    "print(\"Addition is: \",total)"
   ]
  },
  {
   "cell_type": "code",
   "execution_count": 1,
   "id": "61a1bf71",
   "metadata": {},
   "outputs": [
    {
     "name": "stdout",
     "output_type": "stream",
     "text": [
      "\t**This is MarkSheet Program**\t\n",
      "Enter English marks: 90\n",
      "Enter Islamiyat marks: 87\n",
      "Enter Maths marks: 72\n",
      "Enter Science marks: 75\n",
      "Enter Computer marks: 89\n",
      "You got A+\n"
     ]
    }
   ],
   "source": [
    "# Q7 marksheet\n",
    "\n",
    "print(\"\\t**This is MarkSheet Program**\\t\")\n",
    "eng = input(\"Enter English marks: \")\n",
    "isl= input(\"Enter Islamiyat marks: \")\n",
    "math= input(\"Enter Maths marks: \")\n",
    "scien =input(\"Enter Science marks: \")\n",
    "com =input(\"Enter Computer marks: \")\n",
    "total= int(eng)+int(isl)+int(math)+int(scien)+int(com)\n",
    "percen = total/500*100\n",
    "if percen <100 and percen>80:\n",
    "    print(\"You got A+\")\n",
    "elif percen >70 and percen<80:\n",
    "    print(\"You got A Grade.\")\n",
    "if percen >60 and percen<70:\n",
    "    print(\"You got B Grade.\")\n",
    "elif percen >50 and percen<60:\n",
    "    print(\"You got C Grade.\")\n",
    "if percen >40 and percen <50:\n",
    "    print(\"You got D Grade.\")\n",
    "elif percen >0 and percen < 40:\n",
    "    print(\"Sorry to say you Got F Grade\")\n",
    "if percen > 100 or percen < 0:\n",
    "    print(\"Not found\")\n",
    "#End\n"
   ]
  },
  {
   "cell_type": "code",
   "execution_count": 8,
   "id": "e2f0b969",
   "metadata": {},
   "outputs": [
    {
     "name": "stdout",
     "output_type": "stream",
     "text": [
      "Enter number: 4\n",
      "Even Number\n"
     ]
    }
   ],
   "source": [
    "# Q8 Even Odd\n",
    "val = int(input(\"Enter number: \"))\n",
    "if val %2==0:\n",
    "    print(\"Even Number\")\n",
    "else:\n",
    "    print(\"Odd Number\")\n"
   ]
  },
  {
   "cell_type": "code",
   "execution_count": 1,
   "id": "1d6fe350",
   "metadata": {},
   "outputs": [
    {
     "data": {
      "text/plain": [
       "3"
      ]
     },
     "execution_count": 1,
     "metadata": {},
     "output_type": "execute_result"
    }
   ],
   "source": [
    "# Q9 Lenght of the list\n",
    "lis =['a','b','c']\n",
    "len(lis)"
   ]
  },
  {
   "cell_type": "code",
   "execution_count": 3,
   "id": "676fb797",
   "metadata": {},
   "outputs": [
    {
     "name": "stdout",
     "output_type": "stream",
     "text": [
      "15\n"
     ]
    }
   ],
   "source": [
    "# Q10 sum numberic item in list\n",
    "liss = [2,4,2,7]\n",
    "summ =sum(liss)\n",
    "print(summ)"
   ]
  },
  {
   "cell_type": "code",
   "execution_count": 5,
   "id": "237d30f1",
   "metadata": {},
   "outputs": [
    {
     "name": "stdout",
     "output_type": "stream",
     "text": [
      "Largest number is:  77\n"
     ]
    }
   ],
   "source": [
    "# Q11 print Max number\n",
    "li = [66,77,9]\n",
    "m =max(li)\n",
    "print(\"Largest number is: \",m)"
   ]
  },
  {
   "cell_type": "code",
   "execution_count": 10,
   "id": "bdbf4fe0",
   "metadata": {},
   "outputs": [
    {
     "name": "stdout",
     "output_type": "stream",
     "text": [
      "1\n",
      "1\n",
      "2\n",
      "3\n"
     ]
    }
   ],
   "source": [
    "# Q12\n",
    "a= [1,1,2,3,5,8,13,21,34,55,89]\n",
    "for item in a: \n",
    "    if item<5: \n",
    "        print(item)\n"
   ]
  },
  {
   "cell_type": "code",
   "execution_count": null,
   "id": "2b098f71",
   "metadata": {},
   "outputs": [],
   "source": []
  }
 ],
 "metadata": {
  "kernelspec": {
   "display_name": "Python 3",
   "language": "python",
   "name": "python3"
  },
  "language_info": {
   "codemirror_mode": {
    "name": "ipython",
    "version": 3
   },
   "file_extension": ".py",
   "mimetype": "text/x-python",
   "name": "python",
   "nbconvert_exporter": "python",
   "pygments_lexer": "ipython3",
   "version": "3.8.8"
  }
 },
 "nbformat": 4,
 "nbformat_minor": 5
}
